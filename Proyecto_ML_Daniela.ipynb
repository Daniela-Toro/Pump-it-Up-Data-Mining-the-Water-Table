{
  "nbformat": 4,
  "nbformat_minor": 0,
  "metadata": {
    "colab": {
      "provenance": [],
      "authorship_tag": "ABX9TyPyQA9qwIldYey9xbQbL6nr"
    },
    "kernelspec": {
      "name": "python3",
      "display_name": "Python 3"
    },
    "language_info": {
      "name": "python"
    }
  },
  "cells": [
    {
      "cell_type": "markdown",
      "source": [
        "# 🧪 **Predicción del Estado de Bombas de Agua en Tanzania**\n",
        "\n",
        "El objetivo es predecir el estado funcional de bombas de agua en Tanzania utilizando técnicas de aprendizaje automático multiclase. Los posibles estados son: **funcional**, **no funcional** y **necesita reparación**.\n",
        "Para realizar las predicciones, se han proporcionado datos con aproximadamente 50 variables, entre ellas:\n",
        "\n",
        "- `amount_tsh`: Cantidad de agua disponible (altura estática total)\n",
        "- `date_recorded`: Fecha de registro de los datos\n",
        "- `funder`: Entidad financiadora del pozo\n",
        "- `gps_height`: Altitud del pozo\n",
        "- `installer`: Organización que instaló el pozo\n",
        "- `longitude`, `latitude`: Coordenadas GPS\n",
        "- `wpt_name`: Nombre del punto de agua\n",
        "- `basin`, `subvillage`, `region`, `district_code`, `lga`, `ward`, `region_code`: Ubicación geográfica\n",
        "- `population`: Población en torno al punto de agua\n",
        "- `public_meeting`, `permit`: Indicadores booleanos sobre permisos y reuniones públicas\n",
        "- `construction_year`: Año de construcción del pozo\n",
        "- `recorded_by`, `scheme_management`, `scheme_name`: Información sobre el registro y gestión del pozo\n",
        "- `extraction_type`, `extraction_type_group`, `extraction_type_class`: Tipos de extracción de agua\n",
        "- `management`, `management_group`: Formas de gestión del punto de agua\n",
        "- `payment`, `payment_type`: Información sobre el costo del agua\n",
        "- `water_quality`, `quality_group`: Calidad del agua\n",
        "- `quantity`, `quantity_group`: Cantidad de agua disponible\n",
        "- `source`, `source_type`, `source_class`: Fuente del agua\n",
        "- `waterpoint_type`, `waterpoint_type_group`: Tipo de punto de agua\n"
      ],
      "metadata": {
        "id": "Tyq5AV8_WneT"
      }
    },
    {
      "cell_type": "markdown",
      "source": [
        "---"
      ],
      "metadata": {
        "id": "mAWxWm0VbeT9"
      }
    },
    {
      "cell_type": "markdown",
      "source": [
        "# **Importación de librerias**\n",
        "En esta sección se instalan e importan las librerías necesarias para poder trabajar."
      ],
      "metadata": {
        "id": "2l7hahadbef2"
      }
    },
    {
      "cell_type": "code",
      "execution_count": null,
      "metadata": {
        "id": "9yIrY7LiWjRp"
      },
      "outputs": [],
      "source": []
    },
    {
      "cell_type": "markdown",
      "source": [
        "---"
      ],
      "metadata": {
        "id": "O8QHJodeWmvN"
      }
    },
    {
      "cell_type": "markdown",
      "source": [
        "# **Análisis exploratorio**\n",
        "Se realiza una evaluación inicial del conjunto de datos para entender su estructura general, identificar distribuciones por variable, detectar valores atípicos, registros duplicados y posibles errores de carga."
      ],
      "metadata": {
        "id": "CZUigEfJbzTf"
      }
    },
    {
      "cell_type": "code",
      "source": [],
      "metadata": {
        "id": "ImgVh1CSfP9U"
      },
      "execution_count": null,
      "outputs": []
    },
    {
      "cell_type": "markdown",
      "source": [
        "---"
      ],
      "metadata": {
        "id": "SUV3Ob4lcGiz"
      }
    },
    {
      "cell_type": "markdown",
      "source": [
        "# **Limpieza de Datos**\n",
        "En esta etapa se toman desiciones sobre los registros. Por ejemplo, se analiza si se pasarán valores a missing para luego imputarlos y no perder información en el proceso o se eliminan, se identifican los outliers, Eliminar columnas con valores únicos/no utilizables, transformación de variables categóricas, normalización o escalado de variables si es necesario, eliminar registros con más del 50% de campos vacios"
      ],
      "metadata": {
        "id": "7RcawkPKcQgP"
      }
    },
    {
      "cell_type": "code",
      "source": [],
      "metadata": {
        "id": "Cq71pzXNfQZG"
      },
      "execution_count": null,
      "outputs": []
    },
    {
      "cell_type": "markdown",
      "source": [
        "---"
      ],
      "metadata": {
        "id": "ut4AKPgicLWB"
      }
    },
    {
      "cell_type": "markdown",
      "source": [
        "# Gestión de los datos categóricos\n",
        "ver si son ordinales o nominales, gestionar dimensionalidad, Codificación de etiquetas en caso de ser necesario, dummi, etc. El objetivo es reducir dimensionalidad sin perder información crítica para el modelo. Se evalúa su cardinalidad y se toman decisiones sobre codificación"
      ],
      "metadata": {
        "id": "ruxVJ8N1kptr"
      }
    },
    {
      "cell_type": "code",
      "source": [],
      "metadata": {
        "id": "3rKu5jrwkybi"
      },
      "execution_count": null,
      "outputs": []
    },
    {
      "cell_type": "markdown",
      "source": [
        "---"
      ],
      "metadata": {
        "id": "ohcUz4U3krGp"
      }
    },
    {
      "cell_type": "markdown",
      "source": [
        "# **Tratamiento de outliers**\n",
        "\n",
        "Se identifican valores atípicos mediante análisis estadísticos  o visualizaciones. Dependiendo del contexto, estos pueden eliminarse, imputarse o transformarse. Se evalúa su impacto en la variable objetivo y en la distribución general, pueden dejarse si contienen información relevante."
      ],
      "metadata": {
        "id": "-B8CMn6QcZc0"
      }
    },
    {
      "cell_type": "code",
      "source": [],
      "metadata": {
        "id": "5gfbJ-D6fRZw"
      },
      "execution_count": null,
      "outputs": []
    },
    {
      "cell_type": "markdown",
      "source": [
        "---"
      ],
      "metadata": {
        "id": "tKQALLb5cZfb"
      }
    },
    {
      "cell_type": "markdown",
      "source": [
        "# **Gestión de Missings**\n",
        "\n",
        "Se analiza la distribución y patrón de los valores faltantes (MCAR, MAR, MNAR). Las estrategias de imputación se seleccionan según el tipo y comportamiento de la variable, se utilizan variables auxiliares para evaluar la cantidad de perdidos."
      ],
      "metadata": {
        "id": "u3yB7e7GcZiB"
      }
    },
    {
      "cell_type": "code",
      "source": [],
      "metadata": {
        "id": "DsbFqAJkfR56"
      },
      "execution_count": null,
      "outputs": []
    },
    {
      "cell_type": "markdown",
      "source": [
        "---"
      ],
      "metadata": {
        "id": "Z2VpeM_UcZkr"
      }
    },
    {
      "cell_type": "markdown",
      "source": [
        "# Tratamiento de datos desequilibrados\n",
        "La variable objetivo presenta clases desbalanceadas, por lo que se aplican técnicas para mitigar este efecto. El tratamiento adecuado evita que el modelo se sesgue hacia las clases más frecuentes."
      ],
      "metadata": {
        "id": "3bquKjuQk4Ch"
      }
    },
    {
      "cell_type": "code",
      "source": [],
      "metadata": {
        "id": "9qT9FqT5lAL2"
      },
      "execution_count": null,
      "outputs": []
    },
    {
      "cell_type": "markdown",
      "source": [
        "---"
      ],
      "metadata": {
        "id": "jBpMF-T5k-T5"
      }
    },
    {
      "cell_type": "markdown",
      "source": [
        "Ver que tipo de escalado es mejor!!!!!\n",
        "\n",
        "Escalamiento mín-máx: El escalamiento mín-máx es adecuado para algoritmos que requieren que las características de entrada estén dentro de un rango específico, como las redes neuronales y las máquinas vectoriales de soporte. Asegúrese de que los valores atípicos se gestionan adecuadamente, ya que pueden afectar al escalamiento.\n",
        "\n",
        "Normalización de la puntuación Z: Esto es adecuado para algoritmos como la agrupación de medios k, la regresión lineal y la regresión logística. El resultado es una distribución centrada en torno a 0 con una desviación estándar de 1, lo que la hace ideal para algoritmos que asumen datos normalmente distribuidos.\n",
        "\n",
        "Para aplicar el escalamiento de características:\n",
        "\n",
        "Aplique la estandarización (normalización de la puntuación Z) cuando los datos sigan una distribución normal o cuando usen algoritmos como la regresión lineal, la regresión logística o la agrupación de medios k.\n",
        "Aplique la normalización (escalamiento mín.-máx.) cuando necesite que los datos estén dentro de un rango específico, como las redes neuronales o las máquinas vectoriales de soporte.\n",
        "Utilice MaxAbsScaler cuando se enfrente a datos dispersos, como datos de texto o características dispersas de gran dimensión.\n",
        "Utilice RobustScaler cuando se enfrente a conjuntos de datos que contengan valores atípicos o características no distribuidas normalmente."
      ],
      "metadata": {
        "id": "WYLjoJx1jVDf"
      }
    }
  ]
}